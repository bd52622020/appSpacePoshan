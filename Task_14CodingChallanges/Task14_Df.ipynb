{
 "cells": [
  {
   "cell_type": "code",
   "execution_count": 1,
   "metadata": {},
   "outputs": [],
   "source": [
    "import pandas as pd\n"
   ]
  },
  {
   "cell_type": "code",
   "execution_count": 2,
   "metadata": {},
   "outputs": [
    {
     "data": {
      "text/html": [
       "<div>\n",
       "<style scoped>\n",
       "    .dataframe tbody tr th:only-of-type {\n",
       "        vertical-align: middle;\n",
       "    }\n",
       "\n",
       "    .dataframe tbody tr th {\n",
       "        vertical-align: top;\n",
       "    }\n",
       "\n",
       "    .dataframe thead th {\n",
       "        text-align: right;\n",
       "    }\n",
       "</style>\n",
       "<table border=\"1\" class=\"dataframe\">\n",
       "  <thead>\n",
       "    <tr style=\"text-align: right;\">\n",
       "      <th></th>\n",
       "      <th>c1</th>\n",
       "      <th>c2</th>\n",
       "      <th>c3</th>\n",
       "      <th>c4</th>\n",
       "      <th>c5</th>\n",
       "    </tr>\n",
       "  </thead>\n",
       "  <tbody>\n",
       "    <tr>\n",
       "      <th>0</th>\n",
       "      <td>1</td>\n",
       "      <td>4</td>\n",
       "      <td>2</td>\n",
       "      <td>7</td>\n",
       "      <td>2500</td>\n",
       "    </tr>\n",
       "    <tr>\n",
       "      <th>1</th>\n",
       "      <td>2</td>\n",
       "      <td>3</td>\n",
       "      <td>-1</td>\n",
       "      <td>3</td>\n",
       "      <td>3096</td>\n",
       "    </tr>\n",
       "    <tr>\n",
       "      <th>2</th>\n",
       "      <td>3</td>\n",
       "      <td>0</td>\n",
       "      <td>6</td>\n",
       "      <td>-5</td>\n",
       "      <td>8795</td>\n",
       "    </tr>\n",
       "    <tr>\n",
       "      <th>3</th>\n",
       "      <td>67</td>\n",
       "      <td>1</td>\n",
       "      <td>4</td>\n",
       "      <td>3</td>\n",
       "      <td>3</td>\n",
       "    </tr>\n",
       "    <tr>\n",
       "      <th>4</th>\n",
       "      <td>89</td>\n",
       "      <td>3</td>\n",
       "      <td>3</td>\n",
       "      <td>0</td>\n",
       "      <td>-5</td>\n",
       "    </tr>\n",
       "    <tr>\n",
       "      <th>5</th>\n",
       "      <td>-10</td>\n",
       "      <td>55</td>\n",
       "      <td>0</td>\n",
       "      <td>1</td>\n",
       "      <td>3</td>\n",
       "    </tr>\n",
       "    <tr>\n",
       "      <th>6</th>\n",
       "      <td>12</td>\n",
       "      <td>8</td>\n",
       "      <td>1</td>\n",
       "      <td>3</td>\n",
       "      <td>0</td>\n",
       "    </tr>\n",
       "    <tr>\n",
       "      <th>7</th>\n",
       "      <td>12</td>\n",
       "      <td>12</td>\n",
       "      <td>3</td>\n",
       "      <td>55</td>\n",
       "      <td>1</td>\n",
       "    </tr>\n",
       "    <tr>\n",
       "      <th>8</th>\n",
       "      <td>40</td>\n",
       "      <td>-12</td>\n",
       "      <td>55</td>\n",
       "      <td>8</td>\n",
       "      <td>10</td>\n",
       "    </tr>\n",
       "    <tr>\n",
       "      <th>9</th>\n",
       "      <td>10</td>\n",
       "      <td>3</td>\n",
       "      <td>8</td>\n",
       "      <td>10</td>\n",
       "      <td>9</td>\n",
       "    </tr>\n",
       "  </tbody>\n",
       "</table>\n",
       "</div>"
      ],
      "text/plain": [
       "   c1  c2  c3  c4    c5\n",
       "0   1   4   2   7  2500\n",
       "1   2   3  -1   3  3096\n",
       "2   3   0   6  -5  8795\n",
       "3  67   1   4   3     3\n",
       "4  89   3   3   0    -5\n",
       "5 -10  55   0   1     3\n",
       "6  12   8   1   3     0\n",
       "7  12  12   3  55     1\n",
       "8  40 -12  55   8    10\n",
       "9  10   3   8  10     9"
      ]
     },
     "execution_count": 2,
     "metadata": {},
     "output_type": "execute_result"
    }
   ],
   "source": [
    "df = pd.DataFrame({'c1':[1,2,3,67,89,-10,12,12,40,10],\n",
    "                   'c2':[4,3,0,1,3,55,8,12,-12,3],\n",
    "                   'c3':[2,-1,6,4,3,0,1,3,55,8],\n",
    "                   'c4':[7,3,-5,3,0,1,3,55,8,10],\n",
    "                   'c5':[2500,3096,8795,3,-5,3,0,1,10,9]})\n",
    "df"
   ]
  },
  {
   "cell_type": "code",
   "execution_count": 3,
   "metadata": {},
   "outputs": [
    {
     "name": "stdout",
     "output_type": "stream",
     "text": [
      "['', '', '', '', '', 'background-color: red', '', '', '', '']\n",
      "['', '', '', '', '', '', '', '', 'background-color: red', '']\n",
      "['', 'background-color: red', '', '', '', '', '', '', '', '']\n",
      "['', '', 'background-color: red', '', '', '', '', '', '', '']\n",
      "['', '', '', '', 'background-color: red', '', '', '', '', '']\n"
     ]
    },
    {
     "data": {
      "text/html": [
       "<style  type=\"text/css\" >\n",
       "    #T_da22c186_b162_11ea_ac33_083e8ee0cafarow1_col2 {\n",
       "            background-color:  red;\n",
       "        }    #T_da22c186_b162_11ea_ac33_083e8ee0cafarow2_col3 {\n",
       "            background-color:  red;\n",
       "        }    #T_da22c186_b162_11ea_ac33_083e8ee0cafarow4_col4 {\n",
       "            background-color:  red;\n",
       "        }    #T_da22c186_b162_11ea_ac33_083e8ee0cafarow5_col0 {\n",
       "            background-color:  red;\n",
       "        }    #T_da22c186_b162_11ea_ac33_083e8ee0cafarow8_col1 {\n",
       "            background-color:  red;\n",
       "        }</style><table id=\"T_da22c186_b162_11ea_ac33_083e8ee0cafa\" ><thead>    <tr>        <th class=\"blank level0\" ></th>        <th class=\"col_heading level0 col0\" >c1</th>        <th class=\"col_heading level0 col1\" >c2</th>        <th class=\"col_heading level0 col2\" >c3</th>        <th class=\"col_heading level0 col3\" >c4</th>        <th class=\"col_heading level0 col4\" >c5</th>    </tr></thead><tbody>\n",
       "                <tr>\n",
       "                        <th id=\"T_da22c186_b162_11ea_ac33_083e8ee0cafalevel0_row0\" class=\"row_heading level0 row0\" >0</th>\n",
       "                        <td id=\"T_da22c186_b162_11ea_ac33_083e8ee0cafarow0_col0\" class=\"data row0 col0\" >1</td>\n",
       "                        <td id=\"T_da22c186_b162_11ea_ac33_083e8ee0cafarow0_col1\" class=\"data row0 col1\" >4</td>\n",
       "                        <td id=\"T_da22c186_b162_11ea_ac33_083e8ee0cafarow0_col2\" class=\"data row0 col2\" >2</td>\n",
       "                        <td id=\"T_da22c186_b162_11ea_ac33_083e8ee0cafarow0_col3\" class=\"data row0 col3\" >7</td>\n",
       "                        <td id=\"T_da22c186_b162_11ea_ac33_083e8ee0cafarow0_col4\" class=\"data row0 col4\" >2500</td>\n",
       "            </tr>\n",
       "            <tr>\n",
       "                        <th id=\"T_da22c186_b162_11ea_ac33_083e8ee0cafalevel0_row1\" class=\"row_heading level0 row1\" >1</th>\n",
       "                        <td id=\"T_da22c186_b162_11ea_ac33_083e8ee0cafarow1_col0\" class=\"data row1 col0\" >2</td>\n",
       "                        <td id=\"T_da22c186_b162_11ea_ac33_083e8ee0cafarow1_col1\" class=\"data row1 col1\" >3</td>\n",
       "                        <td id=\"T_da22c186_b162_11ea_ac33_083e8ee0cafarow1_col2\" class=\"data row1 col2\" >-1</td>\n",
       "                        <td id=\"T_da22c186_b162_11ea_ac33_083e8ee0cafarow1_col3\" class=\"data row1 col3\" >3</td>\n",
       "                        <td id=\"T_da22c186_b162_11ea_ac33_083e8ee0cafarow1_col4\" class=\"data row1 col4\" >3096</td>\n",
       "            </tr>\n",
       "            <tr>\n",
       "                        <th id=\"T_da22c186_b162_11ea_ac33_083e8ee0cafalevel0_row2\" class=\"row_heading level0 row2\" >2</th>\n",
       "                        <td id=\"T_da22c186_b162_11ea_ac33_083e8ee0cafarow2_col0\" class=\"data row2 col0\" >3</td>\n",
       "                        <td id=\"T_da22c186_b162_11ea_ac33_083e8ee0cafarow2_col1\" class=\"data row2 col1\" >0</td>\n",
       "                        <td id=\"T_da22c186_b162_11ea_ac33_083e8ee0cafarow2_col2\" class=\"data row2 col2\" >6</td>\n",
       "                        <td id=\"T_da22c186_b162_11ea_ac33_083e8ee0cafarow2_col3\" class=\"data row2 col3\" >-5</td>\n",
       "                        <td id=\"T_da22c186_b162_11ea_ac33_083e8ee0cafarow2_col4\" class=\"data row2 col4\" >8795</td>\n",
       "            </tr>\n",
       "            <tr>\n",
       "                        <th id=\"T_da22c186_b162_11ea_ac33_083e8ee0cafalevel0_row3\" class=\"row_heading level0 row3\" >3</th>\n",
       "                        <td id=\"T_da22c186_b162_11ea_ac33_083e8ee0cafarow3_col0\" class=\"data row3 col0\" >67</td>\n",
       "                        <td id=\"T_da22c186_b162_11ea_ac33_083e8ee0cafarow3_col1\" class=\"data row3 col1\" >1</td>\n",
       "                        <td id=\"T_da22c186_b162_11ea_ac33_083e8ee0cafarow3_col2\" class=\"data row3 col2\" >4</td>\n",
       "                        <td id=\"T_da22c186_b162_11ea_ac33_083e8ee0cafarow3_col3\" class=\"data row3 col3\" >3</td>\n",
       "                        <td id=\"T_da22c186_b162_11ea_ac33_083e8ee0cafarow3_col4\" class=\"data row3 col4\" >3</td>\n",
       "            </tr>\n",
       "            <tr>\n",
       "                        <th id=\"T_da22c186_b162_11ea_ac33_083e8ee0cafalevel0_row4\" class=\"row_heading level0 row4\" >4</th>\n",
       "                        <td id=\"T_da22c186_b162_11ea_ac33_083e8ee0cafarow4_col0\" class=\"data row4 col0\" >89</td>\n",
       "                        <td id=\"T_da22c186_b162_11ea_ac33_083e8ee0cafarow4_col1\" class=\"data row4 col1\" >3</td>\n",
       "                        <td id=\"T_da22c186_b162_11ea_ac33_083e8ee0cafarow4_col2\" class=\"data row4 col2\" >3</td>\n",
       "                        <td id=\"T_da22c186_b162_11ea_ac33_083e8ee0cafarow4_col3\" class=\"data row4 col3\" >0</td>\n",
       "                        <td id=\"T_da22c186_b162_11ea_ac33_083e8ee0cafarow4_col4\" class=\"data row4 col4\" >-5</td>\n",
       "            </tr>\n",
       "            <tr>\n",
       "                        <th id=\"T_da22c186_b162_11ea_ac33_083e8ee0cafalevel0_row5\" class=\"row_heading level0 row5\" >5</th>\n",
       "                        <td id=\"T_da22c186_b162_11ea_ac33_083e8ee0cafarow5_col0\" class=\"data row5 col0\" >-10</td>\n",
       "                        <td id=\"T_da22c186_b162_11ea_ac33_083e8ee0cafarow5_col1\" class=\"data row5 col1\" >55</td>\n",
       "                        <td id=\"T_da22c186_b162_11ea_ac33_083e8ee0cafarow5_col2\" class=\"data row5 col2\" >0</td>\n",
       "                        <td id=\"T_da22c186_b162_11ea_ac33_083e8ee0cafarow5_col3\" class=\"data row5 col3\" >1</td>\n",
       "                        <td id=\"T_da22c186_b162_11ea_ac33_083e8ee0cafarow5_col4\" class=\"data row5 col4\" >3</td>\n",
       "            </tr>\n",
       "            <tr>\n",
       "                        <th id=\"T_da22c186_b162_11ea_ac33_083e8ee0cafalevel0_row6\" class=\"row_heading level0 row6\" >6</th>\n",
       "                        <td id=\"T_da22c186_b162_11ea_ac33_083e8ee0cafarow6_col0\" class=\"data row6 col0\" >12</td>\n",
       "                        <td id=\"T_da22c186_b162_11ea_ac33_083e8ee0cafarow6_col1\" class=\"data row6 col1\" >8</td>\n",
       "                        <td id=\"T_da22c186_b162_11ea_ac33_083e8ee0cafarow6_col2\" class=\"data row6 col2\" >1</td>\n",
       "                        <td id=\"T_da22c186_b162_11ea_ac33_083e8ee0cafarow6_col3\" class=\"data row6 col3\" >3</td>\n",
       "                        <td id=\"T_da22c186_b162_11ea_ac33_083e8ee0cafarow6_col4\" class=\"data row6 col4\" >0</td>\n",
       "            </tr>\n",
       "            <tr>\n",
       "                        <th id=\"T_da22c186_b162_11ea_ac33_083e8ee0cafalevel0_row7\" class=\"row_heading level0 row7\" >7</th>\n",
       "                        <td id=\"T_da22c186_b162_11ea_ac33_083e8ee0cafarow7_col0\" class=\"data row7 col0\" >12</td>\n",
       "                        <td id=\"T_da22c186_b162_11ea_ac33_083e8ee0cafarow7_col1\" class=\"data row7 col1\" >12</td>\n",
       "                        <td id=\"T_da22c186_b162_11ea_ac33_083e8ee0cafarow7_col2\" class=\"data row7 col2\" >3</td>\n",
       "                        <td id=\"T_da22c186_b162_11ea_ac33_083e8ee0cafarow7_col3\" class=\"data row7 col3\" >55</td>\n",
       "                        <td id=\"T_da22c186_b162_11ea_ac33_083e8ee0cafarow7_col4\" class=\"data row7 col4\" >1</td>\n",
       "            </tr>\n",
       "            <tr>\n",
       "                        <th id=\"T_da22c186_b162_11ea_ac33_083e8ee0cafalevel0_row8\" class=\"row_heading level0 row8\" >8</th>\n",
       "                        <td id=\"T_da22c186_b162_11ea_ac33_083e8ee0cafarow8_col0\" class=\"data row8 col0\" >40</td>\n",
       "                        <td id=\"T_da22c186_b162_11ea_ac33_083e8ee0cafarow8_col1\" class=\"data row8 col1\" >-12</td>\n",
       "                        <td id=\"T_da22c186_b162_11ea_ac33_083e8ee0cafarow8_col2\" class=\"data row8 col2\" >55</td>\n",
       "                        <td id=\"T_da22c186_b162_11ea_ac33_083e8ee0cafarow8_col3\" class=\"data row8 col3\" >8</td>\n",
       "                        <td id=\"T_da22c186_b162_11ea_ac33_083e8ee0cafarow8_col4\" class=\"data row8 col4\" >10</td>\n",
       "            </tr>\n",
       "            <tr>\n",
       "                        <th id=\"T_da22c186_b162_11ea_ac33_083e8ee0cafalevel0_row9\" class=\"row_heading level0 row9\" >9</th>\n",
       "                        <td id=\"T_da22c186_b162_11ea_ac33_083e8ee0cafarow9_col0\" class=\"data row9 col0\" >10</td>\n",
       "                        <td id=\"T_da22c186_b162_11ea_ac33_083e8ee0cafarow9_col1\" class=\"data row9 col1\" >3</td>\n",
       "                        <td id=\"T_da22c186_b162_11ea_ac33_083e8ee0cafarow9_col2\" class=\"data row9 col2\" >8</td>\n",
       "                        <td id=\"T_da22c186_b162_11ea_ac33_083e8ee0cafarow9_col3\" class=\"data row9 col3\" >10</td>\n",
       "                        <td id=\"T_da22c186_b162_11ea_ac33_083e8ee0cafarow9_col4\" class=\"data row9 col4\" >9</td>\n",
       "            </tr>\n",
       "    </tbody></table>"
      ],
      "text/plain": [
       "<pandas.io.formats.style.Styler at 0x26c8d3b4588>"
      ]
     },
     "execution_count": 3,
     "metadata": {},
     "output_type": "execute_result"
    }
   ],
   "source": [
    "def highlight_number(number):\n",
    "    condition = number < 0\n",
    "    print([\"background-color: red\" if i else '' for i in condition ])\n",
    "    return [\"background-color: red\" if i else '' for i in condition ]\n",
    "df.style.apply(highlight_number)"
   ]
  },
  {
   "cell_type": "code",
   "execution_count": 6,
   "metadata": {},
   "outputs": [
    {
     "ename": "NameError",
     "evalue": "name 'oldest_date' is not defined",
     "output_type": "error",
     "traceback": [
      "\u001b[1;31m---------------------------------------------------------------------------\u001b[0m",
      "\u001b[1;31mNameError\u001b[0m                                 Traceback (most recent call last)",
      "\u001b[1;32m<ipython-input-6-f8ac04a24c45>\u001b[0m in \u001b[0;36m<module>\u001b[1;34m\u001b[0m\n\u001b[0;32m     12\u001b[0m          \u001b[0mtime\u001b[0m \u001b[1;33m+=\u001b[0m \u001b[0mtimedelta\u001b[0m\u001b[1;33m(\u001b[0m\u001b[0mhours\u001b[0m\u001b[1;33m=\u001b[0m\u001b[1;36m1\u001b[0m\u001b[1;33m)\u001b[0m\u001b[1;33m\u001b[0m\u001b[1;33m\u001b[0m\u001b[0m\n\u001b[0;32m     13\u001b[0m     \u001b[1;32mreturn\u001b[0m \u001b[0mtime\u001b[0m\u001b[1;33m\u001b[0m\u001b[1;33m\u001b[0m\u001b[0m\n\u001b[1;32m---> 14\u001b[1;33m \u001b[0mget_time\u001b[0m\u001b[1;33m(\u001b[0m\u001b[0moldest_date\u001b[0m\u001b[1;33m)\u001b[0m\u001b[1;33m\u001b[0m\u001b[1;33m\u001b[0m\u001b[0m\n\u001b[0m\u001b[0;32m     15\u001b[0m \u001b[1;33m\u001b[0m\u001b[0m\n\u001b[0;32m     16\u001b[0m \u001b[1;33m\u001b[0m\u001b[0m\n",
      "\u001b[1;31mNameError\u001b[0m: name 'oldest_date' is not defined"
     ]
    }
   ],
   "source": [
    "from datetime import datetime\n",
    "from datetime import timedelta\n",
    "\n",
    "df1 = pd.read_csv(\"ufo.csv\",  sep = \",\")\n",
    "\n",
    "def get_time(x):\n",
    "    try:\n",
    "         time = datetime.strptime(x, \"%m/%d/%Y %H:%M\")\n",
    "    except ValueError:\n",
    "         x = x.replace(' 24', ' 23')\n",
    "         time = datetime.strptime(x, \"%m/%d/%Y %H:%M\")\n",
    "         time += timedelta(hours=1)\n",
    "    return time\n",
    "get_time(oldest_date)\n",
    "\n",
    "\n",
    "df1['Date_time'] = df1['Date_time'].apply(lambda x: get_time(x))\n",
    "oldest_date = df[\"Date_time\"].min()\n",
    "current_date = datetime.now()"
   ]
  },
  {
   "cell_type": "code",
   "execution_count": null,
   "metadata": {},
   "outputs": [],
   "source": [
    "current_date = pd.datetime.now().date()\n",
    "current_date"
   ]
  },
  {
   "cell_type": "code",
   "execution_count": null,
   "metadata": {},
   "outputs": [],
   "source": [
    "oldest_date = min(df1['Date_time'])\n",
    "oldest_date"
   ]
  },
  {
   "cell_type": "code",
   "execution_count": null,
   "metadata": {},
   "outputs": [],
   "source": [
    "differencDate = current_date - oldest_date"
   ]
  },
  {
   "cell_type": "code",
   "execution_count": null,
   "metadata": {},
   "outputs": [],
   "source": [
    "df1[df1[\"country\"].isnull()]"
   ]
  },
  {
   "cell_type": "code",
   "execution_count": null,
   "metadata": {},
   "outputs": [],
   "source": [
    "\n",
    "df1.isnull().sum()"
   ]
  },
  {
   "cell_type": "code",
   "execution_count": null,
   "metadata": {},
   "outputs": [],
   "source": []
  }
 ],
 "metadata": {
  "kernelspec": {
   "display_name": "Python 3",
   "language": "python",
   "name": "python3"
  },
  "language_info": {
   "codemirror_mode": {
    "name": "ipython",
    "version": 3
   },
   "file_extension": ".py",
   "mimetype": "text/x-python",
   "name": "python",
   "nbconvert_exporter": "python",
   "pygments_lexer": "ipython3",
   "version": "3.7.6"
  }
 },
 "nbformat": 4,
 "nbformat_minor": 4
}
